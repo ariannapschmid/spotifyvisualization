{
 "cells": [
  {
   "cell_type": "code",
   "execution_count": 1,
   "metadata": {},
   "outputs": [],
   "source": [
    "import argparse\n",
    "import pandas as pd\n",
    "import selenium"
   ]
  },
  {
   "cell_type": "code",
   "execution_count": 2,
   "metadata": {},
   "outputs": [],
   "source": [
    "# Spotify API credentials from your Spotify Developer Dashboard\n",
    "client_id = '4c1940f4e36240a3b2ab4ca96df436d5'\n",
    "client_secret = 'd6878abd48cf457d9e1d69502b3ab46f'"
   ]
  },
  {
   "cell_type": "code",
   "execution_count": 3,
   "metadata": {},
   "outputs": [],
   "source": [
    "import spotipy\n",
    "from spotipy.oauth2 import SpotifyClientCredentials"
   ]
  },
  {
   "cell_type": "code",
   "execution_count": 8,
   "metadata": {},
   "outputs": [],
   "source": [
    "#Authentication - without user\n",
    "client_credentials_manager = SpotifyClientCredentials(client_id=client_id, client_secret=client_secret)\n",
    "sp = spotipy.Spotify(client_credentials_manager = client_credentials_manager)\n",
    "\n",
    "# playlist links and uri\n",
    "eom_link = \"https://open.spotify.com/track/0gplL1WMoJ6iYaPgMCL0gX?si=91ef70f261cd4fee\"\n",
    "eom_uri = eom_link.split(\"/\")[-1].split(\"?\")[0]\n",
    "\n",
    "username = \"marcos.micheloni@gmail.com\""
   ]
  },
  {
   "cell_type": "code",
   "execution_count": 16,
   "metadata": {},
   "outputs": [
    {
     "data": {
      "text/plain": [
       "dict_keys(['meta', 'track', 'bars', 'beats', 'sections', 'segments', 'tatums'])"
      ]
     },
     "execution_count": 16,
     "metadata": {},
     "output_type": "execute_result"
    }
   ],
   "source": [
    "# this gives us audio analysis about the song\n",
    "audio_analysis = sp.audio_analysis(eom_uri)\n",
    "audio_analysis.keys()"
   ]
  },
  {
   "cell_type": "code",
   "execution_count": 24,
   "metadata": {},
   "outputs": [
    {
     "data": {
      "text/plain": [
       "[{'danceability': 0.604,\n",
       "  'energy': 0.366,\n",
       "  'key': 5,\n",
       "  'loudness': -7.519,\n",
       "  'mode': 1,\n",
       "  'speechiness': 0.0282,\n",
       "  'acousticness': 0.578,\n",
       "  'instrumentalness': 0,\n",
       "  'liveness': 0.133,\n",
       "  'valence': 0.13,\n",
       "  'tempo': 141.981,\n",
       "  'type': 'audio_features',\n",
       "  'id': '0gplL1WMoJ6iYaPgMCL0gX',\n",
       "  'uri': 'spotify:track:0gplL1WMoJ6iYaPgMCL0gX',\n",
       "  'track_href': 'https://api.spotify.com/v1/tracks/0gplL1WMoJ6iYaPgMCL0gX',\n",
       "  'analysis_url': 'https://api.spotify.com/v1/audio-analysis/0gplL1WMoJ6iYaPgMCL0gX',\n",
       "  'duration_ms': 224695,\n",
       "  'time_signature': 4}]"
      ]
     },
     "execution_count": 24,
     "metadata": {},
     "output_type": "execute_result"
    }
   ],
   "source": [
    "# this one has the data we're after\n",
    "audio_features = sp.audio_features(eom_uri)\n",
    "audio_features"
   ]
  },
  {
   "cell_type": "code",
   "execution_count": 25,
   "metadata": {},
   "outputs": [],
   "source": [
    "def link_to_uri (link):\n",
    "    return link.split(\"/\")[-1].split(\"?\")[0]"
   ]
  },
  {
   "cell_type": "code",
   "execution_count": 43,
   "metadata": {},
   "outputs": [],
   "source": [
    "cities =[\"Amsterdam\", \"Barcelona\", \"Berlin\", \"Chicago\", \"Istanbul\", \"Jakarta\", \"London\",\n",
    "         \"Los Angeles\", \"Madrid\", \"Mexico City\", \"New York City\", \"Paris\", \"Santiago\",\n",
    "         \"Sydney\", \"Sao Paulo\", \"Toronto\"]\n",
    "links = [\"https://open.spotify.com/track/0gplL1WMoJ6iYaPgMCL0gX?si=91ef70f261cd4fee\", # AMS, Easy on Me, Adele\n",
    "         \"https://open.spotify.com/track/2HafqoJbgXdtjwCOvNEF14\", # MAD, Si No Estás, Iñigo Quintero \n",
    "         \"https://open.spotify.com/track/3an1JVi8OsE0aG6dMS4Pes\", # BER, Hasslich, AYLIVA\n",
    "         \"https://open.spotify.com/track/56y1jOTK0XSvJzVv9vHQBK\", # CHI, Paint the Town Red, Doja Cat\n",
    "         \"https://open.spotify.com/track/3ZwRkdnTb4az8X5n4WXuHA\", # IST, aklina ben gelicem, BLOK3\n",
    "         \"https://open.spotify.com/track/6XsFgTG4dY768oIB4Dmeu0\", # JAK, Jiwa Yang Bersedih, Ghea Indrawari\n",
    "         \"https://open.spotify.com/track/56y1jOTK0XSvJzVv9vHQBK\", # LDN, Paint the Town Red, Doja Cat\n",
    "         \"https://open.spotify.com/track/56y1jOTK0XSvJzVv9vHQBK\", # LA, Paint the Town Red, Doja Cat\n",
    "         \"https://open.spotify.com/track/2HafqoJbgXdtjwCOvNEF14\", # MAD, Si No Estás, Iñigo Quintero \n",
    "         \"https://open.spotify.com/track/7mXuWTczZNxG5EDcjFEuJR\", # MX, LADY GAGA, Peso Pluma, Gabito Ballesteros, Junior H\n",
    "         \"https://open.spotify.com/track/56y1jOTK0XSvJzVv9vHQBK\", # NYC, Paint the Town Red, Doja Cat\n",
    "         \"https://open.spotify.com/track/6z0GwK274ToNmvxfyYPuHw\", # PAR, Pétit Génie, Jungeli, Imen Es, Alonzo, Abou Debeing, Lossa\n",
    "         \"https://open.spotify.com/track/6hwGwCfCwHoSJQw7AYPEQu\", # SCL, Ando, Jere Klein & Gittobeatz\n",
    "         \"https://open.spotify.com/track/56y1jOTK0XSvJzVv9vHQBK\", # SYD, Paint The Town Red, Doja Cat\n",
    "         \"https://open.spotify.com/track/2InS5VWKJQbsFBKOsf1cJB\", # SP, Let's Go 4 , Dj GBR\n",
    "         \"https://open.spotify.com/track/56y1jOTK0XSvJzVv9vHQBK\", # TOR, Paint The Town Red, Doja Cat\n",
    "        ]"
   ]
  },
  {
   "cell_type": "code",
   "execution_count": 97,
   "metadata": {},
   "outputs": [],
   "source": [
    "my_dict = {\"cities\": cities, \"top_1_song\": [], \"artist\": [], \"uri\": [], \"energy\": [], \"valence\": [], \"duration\": []}\n",
    "#my_dict"
   ]
  },
  {
   "cell_type": "code",
   "execution_count": 98,
   "metadata": {},
   "outputs": [],
   "source": [
    "for link in links:\n",
    "    uri = link_to_uri(link)\n",
    "    my_dict[\"top_1_song\"].append(sp.track(uri)[\"name\"])\n",
    "    my_dict[\"artist\"].append(sp.track(uri)[\"artists\"][0][\"name\"])\n",
    "    my_dict[\"uri\"].append(uri)\n",
    "    my_dict[\"energy\"].append(sp.audio_features(uri)[0][\"energy\"])\n",
    "    my_dict[\"valence\"].append(sp.audio_features(uri)[0][\"valence\"])\n",
    "    my_dict[\"duration\"].append(sp.audio_features(uri)[0][\"duration_ms\"])"
   ]
  },
  {
   "cell_type": "code",
   "execution_count": 96,
   "metadata": {},
   "outputs": [
    {
     "data": {
      "text/plain": [
       "[{'danceability': 0.864,\n",
       "  'energy': 0.556,\n",
       "  'key': 2,\n",
       "  'loudness': -7.683,\n",
       "  'mode': 0,\n",
       "  'speechiness': 0.194,\n",
       "  'acousticness': 0.255,\n",
       "  'instrumentalness': 3.85e-06,\n",
       "  'liveness': 0.112,\n",
       "  'valence': 0.726,\n",
       "  'tempo': 99.974,\n",
       "  'type': 'audio_features',\n",
       "  'id': '56y1jOTK0XSvJzVv9vHQBK',\n",
       "  'uri': 'spotify:track:56y1jOTK0XSvJzVv9vHQBK',\n",
       "  'track_href': 'https://api.spotify.com/v1/tracks/56y1jOTK0XSvJzVv9vHQBK',\n",
       "  'analysis_url': 'https://api.spotify.com/v1/audio-analysis/56y1jOTK0XSvJzVv9vHQBK',\n",
       "  'duration_ms': 230480,\n",
       "  'time_signature': 4}]"
      ]
     },
     "execution_count": 96,
     "metadata": {},
     "output_type": "execute_result"
    }
   ],
   "source": [
    "sp.audio_features(link_to_uri(\"https://open.spotify.com/track/56y1jOTK0XSvJzVv9vHQBK\"))"
   ]
  },
  {
   "cell_type": "code",
   "execution_count": 100,
   "metadata": {},
   "outputs": [
    {
     "data": {
      "text/html": [
       "<div>\n",
       "<style scoped>\n",
       "    .dataframe tbody tr th:only-of-type {\n",
       "        vertical-align: middle;\n",
       "    }\n",
       "\n",
       "    .dataframe tbody tr th {\n",
       "        vertical-align: top;\n",
       "    }\n",
       "\n",
       "    .dataframe thead th {\n",
       "        text-align: right;\n",
       "    }\n",
       "</style>\n",
       "<table border=\"1\" class=\"dataframe\">\n",
       "  <thead>\n",
       "    <tr style=\"text-align: right;\">\n",
       "      <th></th>\n",
       "      <th>cities</th>\n",
       "      <th>top_1_song</th>\n",
       "      <th>artist</th>\n",
       "      <th>uri</th>\n",
       "      <th>energy</th>\n",
       "      <th>valence</th>\n",
       "      <th>duration</th>\n",
       "    </tr>\n",
       "  </thead>\n",
       "  <tbody>\n",
       "    <tr>\n",
       "      <th>0</th>\n",
       "      <td>Amsterdam</td>\n",
       "      <td>Easy On Me</td>\n",
       "      <td>Adele</td>\n",
       "      <td>0gplL1WMoJ6iYaPgMCL0gX</td>\n",
       "      <td>0.366</td>\n",
       "      <td>0.130</td>\n",
       "      <td>224695</td>\n",
       "    </tr>\n",
       "    <tr>\n",
       "      <th>1</th>\n",
       "      <td>Barcelona</td>\n",
       "      <td>Si No Estás</td>\n",
       "      <td>iñigo quintero</td>\n",
       "      <td>2HafqoJbgXdtjwCOvNEF14</td>\n",
       "      <td>0.421</td>\n",
       "      <td>0.524</td>\n",
       "      <td>184061</td>\n",
       "    </tr>\n",
       "    <tr>\n",
       "      <th>2</th>\n",
       "      <td>Berlin</td>\n",
       "      <td>Hässlich</td>\n",
       "      <td>AYLIVA</td>\n",
       "      <td>3an1JVi8OsE0aG6dMS4Pes</td>\n",
       "      <td>0.489</td>\n",
       "      <td>0.559</td>\n",
       "      <td>136360</td>\n",
       "    </tr>\n",
       "    <tr>\n",
       "      <th>3</th>\n",
       "      <td>Chicago</td>\n",
       "      <td>Paint The Town Red</td>\n",
       "      <td>Doja Cat</td>\n",
       "      <td>56y1jOTK0XSvJzVv9vHQBK</td>\n",
       "      <td>0.556</td>\n",
       "      <td>0.726</td>\n",
       "      <td>230480</td>\n",
       "    </tr>\n",
       "    <tr>\n",
       "      <th>4</th>\n",
       "      <td>Istanbul</td>\n",
       "      <td>aklına ben gelicem</td>\n",
       "      <td>BLOK3</td>\n",
       "      <td>3ZwRkdnTb4az8X5n4WXuHA</td>\n",
       "      <td>0.546</td>\n",
       "      <td>0.217</td>\n",
       "      <td>149406</td>\n",
       "    </tr>\n",
       "    <tr>\n",
       "      <th>5</th>\n",
       "      <td>Jakarta</td>\n",
       "      <td>Jiwa Yang Bersedih</td>\n",
       "      <td>Ghea Indrawari</td>\n",
       "      <td>6XsFgTG4dY768oIB4Dmeu0</td>\n",
       "      <td>0.391</td>\n",
       "      <td>0.451</td>\n",
       "      <td>278219</td>\n",
       "    </tr>\n",
       "    <tr>\n",
       "      <th>6</th>\n",
       "      <td>London</td>\n",
       "      <td>Paint The Town Red</td>\n",
       "      <td>Doja Cat</td>\n",
       "      <td>56y1jOTK0XSvJzVv9vHQBK</td>\n",
       "      <td>0.556</td>\n",
       "      <td>0.726</td>\n",
       "      <td>230480</td>\n",
       "    </tr>\n",
       "    <tr>\n",
       "      <th>7</th>\n",
       "      <td>Los Angeles</td>\n",
       "      <td>Paint The Town Red</td>\n",
       "      <td>Doja Cat</td>\n",
       "      <td>56y1jOTK0XSvJzVv9vHQBK</td>\n",
       "      <td>0.556</td>\n",
       "      <td>0.726</td>\n",
       "      <td>230480</td>\n",
       "    </tr>\n",
       "    <tr>\n",
       "      <th>8</th>\n",
       "      <td>Madrid</td>\n",
       "      <td>Si No Estás</td>\n",
       "      <td>iñigo quintero</td>\n",
       "      <td>2HafqoJbgXdtjwCOvNEF14</td>\n",
       "      <td>0.421</td>\n",
       "      <td>0.524</td>\n",
       "      <td>184061</td>\n",
       "    </tr>\n",
       "    <tr>\n",
       "      <th>9</th>\n",
       "      <td>Mexico City</td>\n",
       "      <td>LADY GAGA</td>\n",
       "      <td>Peso Pluma</td>\n",
       "      <td>7mXuWTczZNxG5EDcjFEuJR</td>\n",
       "      <td>0.736</td>\n",
       "      <td>0.873</td>\n",
       "      <td>212878</td>\n",
       "    </tr>\n",
       "    <tr>\n",
       "      <th>10</th>\n",
       "      <td>New York City</td>\n",
       "      <td>Paint The Town Red</td>\n",
       "      <td>Doja Cat</td>\n",
       "      <td>56y1jOTK0XSvJzVv9vHQBK</td>\n",
       "      <td>0.556</td>\n",
       "      <td>0.726</td>\n",
       "      <td>230480</td>\n",
       "    </tr>\n",
       "    <tr>\n",
       "      <th>11</th>\n",
       "      <td>Paris</td>\n",
       "      <td>Petit génie</td>\n",
       "      <td>Jungeli</td>\n",
       "      <td>6z0GwK274ToNmvxfyYPuHw</td>\n",
       "      <td>0.581</td>\n",
       "      <td>0.966</td>\n",
       "      <td>217143</td>\n",
       "    </tr>\n",
       "    <tr>\n",
       "      <th>12</th>\n",
       "      <td>Santiago</td>\n",
       "      <td>ANDO</td>\n",
       "      <td>Jere Klein</td>\n",
       "      <td>6hwGwCfCwHoSJQw7AYPEQu</td>\n",
       "      <td>0.598</td>\n",
       "      <td>0.393</td>\n",
       "      <td>172768</td>\n",
       "    </tr>\n",
       "    <tr>\n",
       "      <th>13</th>\n",
       "      <td>Sydney</td>\n",
       "      <td>Paint The Town Red</td>\n",
       "      <td>Doja Cat</td>\n",
       "      <td>56y1jOTK0XSvJzVv9vHQBK</td>\n",
       "      <td>0.556</td>\n",
       "      <td>0.726</td>\n",
       "      <td>230480</td>\n",
       "    </tr>\n",
       "    <tr>\n",
       "      <th>14</th>\n",
       "      <td>Sao Paulo</td>\n",
       "      <td>Let's Go 4</td>\n",
       "      <td>Dj GBR</td>\n",
       "      <td>2InS5VWKJQbsFBKOsf1cJB</td>\n",
       "      <td>0.631</td>\n",
       "      <td>0.866</td>\n",
       "      <td>641941</td>\n",
       "    </tr>\n",
       "    <tr>\n",
       "      <th>15</th>\n",
       "      <td>Toronto</td>\n",
       "      <td>Paint The Town Red</td>\n",
       "      <td>Doja Cat</td>\n",
       "      <td>56y1jOTK0XSvJzVv9vHQBK</td>\n",
       "      <td>0.556</td>\n",
       "      <td>0.726</td>\n",
       "      <td>230480</td>\n",
       "    </tr>\n",
       "  </tbody>\n",
       "</table>\n",
       "</div>"
      ],
      "text/plain": [
       "           cities          top_1_song          artist                     uri  \\\n",
       "0       Amsterdam          Easy On Me           Adele  0gplL1WMoJ6iYaPgMCL0gX   \n",
       "1       Barcelona         Si No Estás  iñigo quintero  2HafqoJbgXdtjwCOvNEF14   \n",
       "2          Berlin            Hässlich          AYLIVA  3an1JVi8OsE0aG6dMS4Pes   \n",
       "3         Chicago  Paint The Town Red        Doja Cat  56y1jOTK0XSvJzVv9vHQBK   \n",
       "4        Istanbul  aklına ben gelicem           BLOK3  3ZwRkdnTb4az8X5n4WXuHA   \n",
       "5         Jakarta  Jiwa Yang Bersedih  Ghea Indrawari  6XsFgTG4dY768oIB4Dmeu0   \n",
       "6          London  Paint The Town Red        Doja Cat  56y1jOTK0XSvJzVv9vHQBK   \n",
       "7     Los Angeles  Paint The Town Red        Doja Cat  56y1jOTK0XSvJzVv9vHQBK   \n",
       "8          Madrid         Si No Estás  iñigo quintero  2HafqoJbgXdtjwCOvNEF14   \n",
       "9     Mexico City           LADY GAGA      Peso Pluma  7mXuWTczZNxG5EDcjFEuJR   \n",
       "10  New York City  Paint The Town Red        Doja Cat  56y1jOTK0XSvJzVv9vHQBK   \n",
       "11          Paris         Petit génie         Jungeli  6z0GwK274ToNmvxfyYPuHw   \n",
       "12       Santiago                ANDO      Jere Klein  6hwGwCfCwHoSJQw7AYPEQu   \n",
       "13         Sydney  Paint The Town Red        Doja Cat  56y1jOTK0XSvJzVv9vHQBK   \n",
       "14      Sao Paulo          Let's Go 4          Dj GBR  2InS5VWKJQbsFBKOsf1cJB   \n",
       "15        Toronto  Paint The Town Red        Doja Cat  56y1jOTK0XSvJzVv9vHQBK   \n",
       "\n",
       "    energy  valence  duration  \n",
       "0    0.366    0.130    224695  \n",
       "1    0.421    0.524    184061  \n",
       "2    0.489    0.559    136360  \n",
       "3    0.556    0.726    230480  \n",
       "4    0.546    0.217    149406  \n",
       "5    0.391    0.451    278219  \n",
       "6    0.556    0.726    230480  \n",
       "7    0.556    0.726    230480  \n",
       "8    0.421    0.524    184061  \n",
       "9    0.736    0.873    212878  \n",
       "10   0.556    0.726    230480  \n",
       "11   0.581    0.966    217143  \n",
       "12   0.598    0.393    172768  \n",
       "13   0.556    0.726    230480  \n",
       "14   0.631    0.866    641941  \n",
       "15   0.556    0.726    230480  "
      ]
     },
     "execution_count": 100,
     "metadata": {},
     "output_type": "execute_result"
    }
   ],
   "source": [
    "pd.DataFrame(my_dict)"
   ]
  },
  {
   "cell_type": "code",
   "execution_count": null,
   "metadata": {},
   "outputs": [],
   "source": [
    "\n",
    "    "
   ]
  }
 ],
 "metadata": {
  "kernelspec": {
   "display_name": "Python 3.8.17 ('Python3--8')",
   "language": "python",
   "name": "python3"
  },
  "language_info": {
   "codemirror_mode": {
    "name": "ipython",
    "version": 3
   },
   "file_extension": ".py",
   "mimetype": "text/x-python",
   "name": "python",
   "nbconvert_exporter": "python",
   "pygments_lexer": "ipython3",
   "version": "3.8.17"
  },
  "orig_nbformat": 4,
  "vscode": {
   "interpreter": {
    "hash": "70704628adf59de6021281bd63a9ed6112a9b38f8f7987ddcdd81a2ed7c7b034"
   }
  }
 },
 "nbformat": 4,
 "nbformat_minor": 2
}

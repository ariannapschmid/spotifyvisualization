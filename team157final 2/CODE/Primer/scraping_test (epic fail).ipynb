{
 "cells": [
  {
   "cell_type": "code",
   "execution_count": 24,
   "metadata": {},
   "outputs": [
    {
     "name": "stdout",
     "output_type": "stream",
     "text": [
      "Token refresh failed with status code: 400\n",
      "Response content: {\"error\":\"invalid_client\"}\n"
     ]
    }
   ],
   "source": [
    "import requests\n",
    "import base64\n",
    "\n",
    "# Spotify API credentials from your Spotify Developer Dashboard\n",
    "client_id = '4c1940f4e36240a3b2ab4ca96df436d5'\n",
    "client_secret = 'd6878abd48cf457d9e1d69502b3ab46f'\n",
    "\n",
    "# Encode client credentials as base64\n",
    "client_creds = f'{client_id}:{client_secret}'\n",
    "client_creds_b64 = base64.b64encode(client_creds.encode()).decode()\n",
    "\n",
    "# Set up headers for authentication\n",
    "headers = {\n",
    "    'Authorization': f'Basic {client_creds_b64}'\n",
    "}\n",
    "\n",
    "# Authenticate and get an access token\n",
    "token_url = 'https://accounts.spotify.com/api/token'\n",
    "token_data = {\n",
    "    'grant_type': 'client_credentials'\n",
    "}\n",
    "\n",
    "token_response = requests.post(token_url, data=token_data, headers=headers)\n",
    "token_json = token_response.json()\n",
    "\n",
    "access_token = token_json['access_token']\n",
    "\n",
    "# Make a request to get a user's playlists (replace 'YOUR_USERNAME' with the user's username)\n",
    "user_playlists_url = 'https://api.spotify.com/v1/me/playlists'\n",
    "\n",
    "headers = {\n",
    "    'Authorization': f'Bearer {access_token}'\n",
    "}\n",
    "\n",
    "def refresh_token():\n",
    "    token_url = 'https://accounts.spotify.com/api/token'\n",
    "    token_data = {\n",
    "        'grant_type': 'client_credentials'\n",
    "    }\n",
    "\n",
    "    token_response = requests.post(token_url, data=token_data, headers=headers)\n",
    "    \n",
    "    # Check for errors in the response\n",
    "    if token_response.status_code != 200:\n",
    "        print(f\"Token refresh failed with status code: {token_response.status_code}\")\n",
    "        print(f\"Response content: {token_response.text}\")\n",
    "        return None  # Return None to indicate a failure\n",
    "    \n",
    "    token_json = token_response.json()\n",
    "    \n",
    "    # Check if 'access_token' is in the JSON response\n",
    "    if 'access_token' in token_json:\n",
    "        return token_json['access_token']\n",
    "    else:\n",
    "        print(f\"'access_token' not found in the response JSON: {token_json}\")\n",
    "        return None\n",
    "\n",
    "\n",
    "playlists_response = requests.get(user_playlists_url, headers=headers)\n",
    "playlists_data = playlists_response.json()\n",
    "\n",
    "# Attempt to refresh the access token\n",
    "new_access_token = refresh_token()\n",
    "\n",
    "if new_access_token is not None:\n",
    "    print(f\"Refreshed access token: {new_access_token}\")\n",
    "    headers['Authorization'] = f'Bearer {new_access_token}'  # Update the headers with the new token\n",
    "    playlists_response = requests.get(user_playlists_url, headers=headers)\n",
    "    playlists_data = playlists_response.json()\n",
    "    \n",
    "    # Print some information about the playlists\n",
    "    if 'items' in playlists_data:\n",
    "        for playlist in playlists_data['items']:\n",
    "            print(f\"Playlist Name: {playlist['name']}\")\n",
    "            print(f\"Total Tracks: {playlist['tracks']['total']}\")\n",
    "            print(f\"Playlist ID: {playlist['id']}\")\n",
    "            print()"
   ]
  },
  {
   "cell_type": "code",
   "execution_count": 19,
   "metadata": {},
   "outputs": [
    {
     "name": "stdout",
     "output_type": "stream",
     "text": [
      "Access Token: BQA_5eGkNkbCrbrtKezCJ3sIpRWLOVnJYx_k9fcCg4-NgBJNsJYA3xvhZgfGCfR5lax_06atlhrTmnSLiyaTJyU31hxKUb9FWIZNg8l58CwMPgl70JA\n"
     ]
    }
   ],
   "source": [
    "print(f\"Access Token: {access_token}\")"
   ]
  },
  {
   "cell_type": "code",
   "execution_count": null,
   "metadata": {},
   "outputs": [],
   "source": []
  }
 ],
 "metadata": {
  "kernelspec": {
   "display_name": "Python 3.6.13 ('Python-3-6')",
   "language": "python",
   "name": "python3"
  },
  "language_info": {
   "codemirror_mode": {
    "name": "ipython",
    "version": 3
   },
   "file_extension": ".py",
   "mimetype": "text/x-python",
   "name": "python",
   "nbconvert_exporter": "python",
   "pygments_lexer": "ipython3",
   "version": "3.6.13"
  },
  "orig_nbformat": 4,
  "vscode": {
   "interpreter": {
    "hash": "dc1e95e58ac5018879f9ef5fcda504a953621821383d07dbc8e136c2490ff904"
   }
  }
 },
 "nbformat": 4,
 "nbformat_minor": 2
}
